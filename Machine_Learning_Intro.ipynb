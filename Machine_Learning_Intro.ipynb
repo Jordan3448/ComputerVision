{
  "nbformat": 4,
  "nbformat_minor": 0,
  "metadata": {
    "colab": {
      "provenance": [],
      "collapsed_sections": [],
      "authorship_tag": "ABX9TyNW83174oGr661I6g4p1PM5",
      "include_colab_link": true
    },
    "kernelspec": {
      "name": "python3",
      "display_name": "Python 3"
    },
    "language_info": {
      "name": "python"
    }
  },
  "cells": [
    {
      "cell_type": "markdown",
      "metadata": {
        "id": "view-in-github",
        "colab_type": "text"
      },
      "source": [
        "<a href=\"https://colab.research.google.com/github/Jordan3448/ComputerVision/blob/main/Machine_Learning_Intro.ipynb\" target=\"_parent\"><img src=\"https://colab.research.google.com/assets/colab-badge.svg\" alt=\"Open In Colab\"/></a>"
      ]
    },
    {
      "cell_type": "markdown",
      "source": [
        "In this notebook we will learn about a **Perceptron** as a example of simple **machine learning** technique.\n",
        "\n",
        "An individual perceptron has one or more analog inputs and one digital output.\n",
        "\n",
        "For example, we will use a perceptron to take in the inputs of (height and weight) and output True or False (based on whether the person is on the football team or the equestrain team).\n",
        "\n",
        "**Supervised Learning** - machine learning when you have labeled data to train on.\n",
        "\n",
        "**Unsupervised Learning** - you do not have labeled data, but rather count on the machine to automatically generate categories or models of the data.\n"
      ],
      "metadata": {
        "id": "4onYd8zNo01x"
      }
    },
    {
      "cell_type": "code",
      "execution_count": 1,
      "metadata": {
        "colab": {
          "base_uri": "https://localhost:8080/"
        },
        "id": "gMXvPE0tm-g4",
        "outputId": "86519724-2785-44ad-8bb6-d150f93808bc"
      },
      "outputs": [
        {
          "output_type": "stream",
          "name": "stdout",
          "text": [
            "modules loaded\n"
          ]
        }
      ],
      "source": [
        "import cv2\n",
        "import matplotlib.pyplot as plt\n",
        "import numpy as np\n",
        "print('modules loaded')"
      ]
    },
    {
      "cell_type": "code",
      "source": [
        "#plot y = 2x + 1\n",
        "x = np.linspace(0,100,50)\n",
        "y = 2*x +1\n",
        "\n",
        "footballX = np.array([25, 10])\n",
        "footballY = np.array([175, 100])\n",
        "bX = np.array([50, 75])\n",
        "bY = np.array([25,40])\n",
        "# when two or more plots are shown on the same graph its called overlaying\n",
        "plt.plot(footballX, footballY, 'o', color = 'red')\n",
        "plt.plot(bX, bY, 'x', color = 'blue')\n",
        "plt.plot(x,y)\n",
        "#sets axis equal to each other\n",
        "plt.axis('equal')\n",
        "#applies graph paper\n",
        "plt.grid(True)\n",
        "\n",
        "plt.ylabel('Weight')\n",
        "plt.xlabel('Height')\n",
        "plt.title('Title')\n",
        "\n",
        "plt.show()"
      ],
      "metadata": {
        "colab": {
          "base_uri": "https://localhost:8080/",
          "height": 295
        },
        "id": "ue9ZNZJJnQq4",
        "outputId": "c49dd95d-cbbb-41fc-e611-6e2c2af1a8d2"
      },
      "execution_count": 2,
      "outputs": [
        {
          "output_type": "display_data",
          "data": {
            "text/plain": [
              "<Figure size 432x288 with 1 Axes>"
            ],
            "image/png": "[encoded data removed]"
          },
          "metadata": {
            "needs_background": "light"
          }
        }
      ]
    },
    {
      "cell_type": "code",
      "source": [
        "#x --> X0\n",
        "#y--> X1\n",
        "#IsX? --> Y\n",
        "\n",
        "#plot y = 2x + 1\n",
        "X0 = np.linspace(0,100,50)\n",
        "X1 = 2*x +1 # y = mx + b\n",
        "\n",
        "footballX0 = np.array([25, 10])\n",
        "footballX1 = np.array([175, 100])\n",
        "bX0 = np.array([50, 75])\n",
        "bX1 = np.array([25,40])\n",
        "# when two or more plots are shown on the same graph its called overlaying\n",
        "plt.plot(footballX0, footballX1, 'o', color = 'red')\n",
        "plt.plot(bX0, bX1, 'x', color = 'blue')\n",
        "plt.plot(X0,X1)\n",
        "plt.plot([50], [50], '*', color = 'green')\n",
        "#sets axis equal to each other\n",
        "plt.axis('equal')\n",
        "#applies graph paper\n",
        "plt.grid(True)\n",
        "\n",
        "plt.ylabel('X1 - Weight')\n",
        "plt.xlabel('X0 - Height')\n",
        "plt.title('Title')\n",
        "\n",
        "plt.show()"
      ],
      "metadata": {
        "colab": {
          "base_uri": "https://localhost:8080/",
          "height": 295
        },
        "id": "SMlGn0_eth-p",
        "outputId": "6a54d0f0-8c34-42f7-ca62-af8cdf5f35b7"
      },
      "execution_count": 3,
      "outputs": [
        {
          "output_type": "display_data",
          "data": {
            "text/plain": [
              "<Figure size 432x288 with 1 Axes>"
            ],
            "image/png": "[encoded data removed]"
          },
          "metadata": {
            "needs_background": "light"
          }
        }
      ]
    },
    {
      "cell_type": "code",
      "source": [
        "def perceptron(X0, X1):\n",
        "  \"\"\"Given X0 and X1 inputs return True uf ut thinks it is an X otherwise returns False. \n",
        "  More specifically the algorithm multiplies the X0s by w0, and multiplies the X1s by w1, adds them all up, \n",
        "  then looks at whether the sum is greater than the threshold T.\"\"\"\n",
        "  T = 90\n",
        "  w0 = 1\n",
        "  w1 = 1\n",
        "  sum = w0*X0 + w1*X1\n",
        "\n",
        "  if sum > T:\n",
        "    print('Skinny')\n",
        "    return True\n",
        "  else:\n",
        "    print('Fat')\n",
        "    return False"
      ],
      "metadata": {
        "id": "pPAI_0_HrOXL"
      },
      "execution_count": 4,
      "outputs": []
    },
    {
      "cell_type": "code",
      "source": [
        "#This should be True/Skinny\n",
        "testX0 = 50\n",
        "testX1 = 50\n",
        "perceptron(testX0, testX1)"
      ],
      "metadata": {
        "colab": {
          "base_uri": "https://localhost:8080/"
        },
        "id": "iW-pHl8Xudmn",
        "outputId": "cbb87d6d-7b49-4d6e-f615-e2b4c03c68a2"
      },
      "execution_count": 5,
      "outputs": [
        {
          "output_type": "stream",
          "name": "stdout",
          "text": [
            "Skinny\n"
          ]
        },
        {
          "output_type": "execute_result",
          "data": {
            "text/plain": [
              "True"
            ]
          },
          "metadata": {},
          "execution_count": 5
        }
      ]
    },
    {
      "cell_type": "code",
      "source": [
        "#This should be False/Fat\n",
        "testX0 = 1\n",
        "testX1 = 75\n",
        "perceptron(testX0, testX1)"
      ],
      "metadata": {
        "colab": {
          "base_uri": "https://localhost:8080/"
        },
        "id": "W0j7lKoYuwJZ",
        "outputId": "784ad9b3-7a71-4eb0-c042-2f2bd071a77d"
      },
      "execution_count": 6,
      "outputs": [
        {
          "output_type": "stream",
          "name": "stdout",
          "text": [
            "Fat\n"
          ]
        },
        {
          "output_type": "execute_result",
          "data": {
            "text/plain": [
              "False"
            ]
          },
          "metadata": {},
          "execution_count": 6
        }
      ]
    },
    {
      "cell_type": "markdown",
      "source": [
        "Bonus: Plot on the graph above the line that defines the interface of when our perception switches from False to True.\n",
        "\n",
        "w0x +w1y - Thresh = 0\n",
        "\n",
        "y = (thresh/w1) - (w0/w1)x"
      ],
      "metadata": {
        "id": "9nEHKkULyvMN"
      }
    },
    {
      "cell_type": "code",
      "source": [
        "from keras.datasets import mnist\n",
        "print(\"nmist loaded\")"
      ],
      "metadata": {
        "colab": {
          "base_uri": "https://localhost:8080/"
        },
        "id": "WF32aWwADCFY",
        "outputId": "593dbbba-9354-443f-9e95-e865d00cbf86"
      },
      "execution_count": 7,
      "outputs": [
        {
          "output_type": "stream",
          "name": "stdout",
          "text": [
            "nmist loaded\n"
          ]
        }
      ]
    },
    {
      "cell_type": "code",
      "source": [
        "#help(mnist)\n",
        "# x is the only inputs in this case.\n",
        "# y is the output in this case.\n",
        "(x_train, y_train), (x_test, y_test) = mnist.load_data()"
      ],
      "metadata": {
        "colab": {
          "base_uri": "https://localhost:8080/"
        },
        "id": "eMsujJqsDTxZ",
        "outputId": "a42b4a68-bca8-4b51-d0ee-81963c9da23d"
      },
      "execution_count": 10,
      "outputs": [
        {
          "output_type": "stream",
          "name": "stdout",
          "text": [
            "Downloading data from https://storage.googleapis.com/tensorflow/tf-keras-datasets/mnist.npz\n",
            "11493376/11490434 [==============================] - 1s 0us/step\n",
            "11501568/11490434 [==============================] - 1s 0us/step\n"
          ]
        }
      ]
    },
    {
      "cell_type": "code",
      "source": [
        "type(x_train)"
      ],
      "metadata": {
        "colab": {
          "base_uri": "https://localhost:8080/"
        },
        "id": "Ysu1D6veDWvI",
        "outputId": "f0ef3e44-57af-42e1-b54f-1cf9a8a851bb"
      },
      "execution_count": 11,
      "outputs": [
        {
          "output_type": "execute_result",
          "data": {
            "text/plain": [
              "numpy.ndarray"
            ]
          },
          "metadata": {},
          "execution_count": 11
        }
      ]
    },
    {
      "cell_type": "code",
      "source": [
        "x_train.shape"
      ],
      "metadata": {
        "colab": {
          "base_uri": "https://localhost:8080/"
        },
        "id": "XCwI-c3BEYZ2",
        "outputId": "485b461d-cd82-47ee-d5c0-0b99627dd38f"
      },
      "execution_count": 12,
      "outputs": [
        {
          "output_type": "execute_result",
          "data": {
            "text/plain": [
              "(60000, 28, 28)"
            ]
          },
          "metadata": {},
          "execution_count": 12
        }
      ]
    },
    {
      "cell_type": "code",
      "source": [
        "x_train[0,:,:]\n",
        "plt.imshow(x_train[0,:,:])\n",
        "print('label:', y_train[0])"
      ],
      "metadata": {
        "colab": {
          "base_uri": "https://localhost:8080/",
          "height": 283
        },
        "id": "I6xX-BHYElg-",
        "outputId": "aab478b3-8ac7-4e32-dcd4-57783d0fecbe"
      },
      "execution_count": 18,
      "outputs": [
        {
          "output_type": "stream",
          "name": "stdout",
          "text": [
            "label: 5\n"
          ]
        },
        {
          "output_type": "display_data",
          "data": {
            "text/plain": [
              "<Figure size 432x288 with 1 Axes>"
            ],
            "image/png": "[encoded data removed]"
          },
          "metadata": {
            "needs_background": "light"
          }
        }
      ]
    },
    {
      "cell_type": "code",
      "source": [
        "y_train[0:10]"
      ],
      "metadata": {
        "colab": {
          "base_uri": "https://localhost:8080/"
        },
        "id": "qH2LP_sjE2_e",
        "outputId": "e1ecbf0e-8f29-488b-ffb3-50b4d9b053b0"
      },
      "execution_count": 19,
      "outputs": [
        {
          "output_type": "execute_result",
          "data": {
            "text/plain": [
              "array([5, 0, 4, 1, 9, 2, 1, 3, 1, 4], dtype=uint8)"
            ]
          },
          "metadata": {},
          "execution_count": 19
        }
      ]
    },
    {
      "cell_type": "code",
      "source": [
        "indices_for_8 = y_train == 8\n",
        "x8_train = x_train[indices_for_8,:,:]\n",
        "indices_for_1 = y_train == 1\n",
        "x1_train = x_train[indices_for_1,:,:]"
      ],
      "metadata": {
        "id": "0SPXx7X4F1yu"
      },
      "execution_count": 28,
      "outputs": []
    },
    {
      "cell_type": "code",
      "source": [
        "print(x8_train[0,:,:].sum())\n",
        "print(x1_train[0,:,:].sum())"
      ],
      "metadata": {
        "colab": {
          "base_uri": "https://localhost:8080/"
        },
        "id": "UwOwvVKyGRj9",
        "outputId": "3f79da92-0702-4a9a-b6f0-02dca13eeb65"
      },
      "execution_count": 31,
      "outputs": [
        {
          "output_type": "stream",
          "name": "stdout",
          "text": [
            "27106\n",
            "17135\n"
          ]
        }
      ]
    }
  ]
}