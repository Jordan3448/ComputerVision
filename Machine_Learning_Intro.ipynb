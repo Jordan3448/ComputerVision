{
  "nbformat": 4,
  "nbformat_minor": 0,
  "metadata": {
    "colab": {
      "provenance": [],
      "collapsed_sections": [],
      "authorship_tag": "ABX9TyNtai16WPOvTnMQA/P2AH0W",
      "include_colab_link": true
    },
    "kernelspec": {
      "name": "python3",
      "display_name": "Python 3"
    },
    "language_info": {
      "name": "python"
    }
  },
  "cells": [
    {
      "cell_type": "markdown",
      "metadata": {
        "id": "view-in-github",
        "colab_type": "text"
      },
      "source": [
        "<a href=\"https://colab.research.google.com/github/Jordan3448/ComputerVision/blob/main/Machine_Learning_Intro.ipynb\" target=\"_parent\"><img src=\"https://colab.research.google.com/assets/colab-badge.svg\" alt=\"Open In Colab\"/></a>"
      ]
    },
    {
      "cell_type": "markdown",
      "source": [
        "In this notebook we will learn about a **Perceptron** as a example of simple **machine learning** technique.\n",
        "\n",
        "An individual perceptron has one or more analog inputs and one digital output.\n",
        "\n",
        "For example, we will use a perceptron to take in the inputs of (height and weight) and output True or False (based on whether the person is on the football team or the equestrain team).\n",
        "\n",
        "**Supervised Learning** - machine learning when you have labeled data to train on.\n",
        "\n",
        "**Unsupervised Learning** - you do not have labeled data, but rather count on the machine to automatically generate categories or models of the data.\n"
      ],
      "metadata": {
        "id": "4onYd8zNo01x"
      }
    },
    {
      "cell_type": "code",
      "execution_count": 1,
      "metadata": {
        "colab": {
          "base_uri": "https://localhost:8080/"
        },
        "id": "gMXvPE0tm-g4",
        "outputId": "849cc2a7-20e3-48f4-932d-79b6eda06980"
      },
      "outputs": [
        {
          "output_type": "stream",
          "name": "stdout",
          "text": [
            "modules loaded\n"
          ]
        }
      ],
      "source": [
        "import cv2\n",
        "import matplotlib.pyplot as plt\n",
        "import numpy as np\n",
        "print('modules loaded')"
      ]
    },
    {
      "cell_type": "code",
      "source": [
        "#plot y = 2x + 1\n",
        "x = np.linspace(0,100,50)\n",
        "y = 2*x +1\n",
        "\n",
        "footballX = np.array([25, 10])\n",
        "footballY = np.array([175, 100])\n",
        "bX = np.array([50, 75])\n",
        "bY = np.array([25,40])\n",
        "# when two or more plots are shown on the same graph its called overlaying\n",
        "plt.plot(footballX, footballY, 'o', color = 'red')\n",
        "plt.plot(bX, bY, 'x', color = 'blue')\n",
        "plt.plot(x,y)\n",
        "#sets axis equal to each other\n",
        "plt.axis('equal')\n",
        "#applies graph paper\n",
        "plt.grid(True)\n",
        "\n",
        "plt.ylabel('Weight')\n",
        "plt.xlabel('Height')\n",
        "plt.title('Title')\n",
        "\n",
        "plt.show()"
      ],
      "metadata": {
        "colab": {
          "base_uri": "https://localhost:8080/",
          "height": 295
        },
        "id": "ue9ZNZJJnQq4",
        "outputId": "4d0252d1-f8d4-4397-c548-6060eee1feb2"
      },
      "execution_count": 2,
      "outputs": [
        {
          "output_type": "display_data",
          "data": {
            "text/plain": [
              "<Figure size 432x288 with 1 Axes>"
            ],
            "image/png": "[encoded data removed]"
          },
          "metadata": {
            "needs_background": "light"
          }
        }
      ]
    },
    {
      "cell_type": "code",
      "source": [
        "#x --> X0\n",
        "#y--> X1\n",
        "#IsX? --> Y\n",
        "\n",
        "#plot y = 2x + 1\n",
        "X0 = np.linspace(0,100,50)\n",
        "X1 = 2*x +1 # y = mx + b\n",
        "\n",
        "footballX0 = np.array([25, 10])\n",
        "footballX1 = np.array([175, 100])\n",
        "bX0 = np.array([50, 75])\n",
        "bX1 = np.array([25,40])\n",
        "# when two or more plots are shown on the same graph its called overlaying\n",
        "plt.plot(footballX0, footballX1, 'o', color = 'red')\n",
        "plt.plot(bX0, bX1, 'x', color = 'blue')\n",
        "plt.plot(X0,X1)\n",
        "plt.plot([50], [50], '*', color = 'green')\n",
        "#sets axis equal to each other\n",
        "plt.axis('equal')\n",
        "#applies graph paper\n",
        "plt.grid(True)\n",
        "\n",
        "plt.ylabel('X1 - Weight')\n",
        "plt.xlabel('X0 - Height')\n",
        "plt.title('Title')\n",
        "\n",
        "plt.show()"
      ],
      "metadata": {
        "colab": {
          "base_uri": "https://localhost:8080/",
          "height": 295
        },
        "id": "SMlGn0_eth-p",
        "outputId": "9be30a1d-a1ad-4ece-d67f-963dc31cc61c"
      },
      "execution_count": 3,
      "outputs": [
        {
          "output_type": "display_data",
          "data": {
            "text/plain": [
              "<Figure size 432x288 with 1 Axes>"
            ],
            "image/png": "[encoded data removed]"
          },
          "metadata": {
            "needs_background": "light"
          }
        }
      ]
    },
    {
      "cell_type": "code",
      "source": [
        "def perceptron(X0, X1):\n",
        "  \"\"\"Given X0 and X1 inputs return True uf ut thinks it is an X otherwise returns False. \n",
        "  More specifically the algorithm multiplies the X0s by w0, and multiplies the X1s by w1, adds them all up, \n",
        "  then looks at whether the sum is greater than the threshold T.\"\"\"\n",
        "  T = 90\n",
        "  w0 = 1\n",
        "  w1 = 1\n",
        "  sum = w0*X0 + w1*X1\n",
        "\n",
        "  if sum > T:\n",
        "    print('Skinny')\n",
        "    return True\n",
        "  else:\n",
        "    print('Fat')\n",
        "    return False"
      ],
      "metadata": {
        "id": "pPAI_0_HrOXL"
      },
      "execution_count": 4,
      "outputs": []
    },
    {
      "cell_type": "code",
      "source": [
        "#This should be True/Skinny\n",
        "testX0 = 50\n",
        "testX1 = 50\n",
        "perceptron(testX0, testX1)"
      ],
      "metadata": {
        "colab": {
          "base_uri": "https://localhost:8080/"
        },
        "id": "iW-pHl8Xudmn",
        "outputId": "8056b8ec-e6c9-4e9b-c62f-a6ba0bd50777"
      },
      "execution_count": 5,
      "outputs": [
        {
          "output_type": "stream",
          "name": "stdout",
          "text": [
            "Skinny\n"
          ]
        },
        {
          "output_type": "execute_result",
          "data": {
            "text/plain": [
              "True"
            ]
          },
          "metadata": {},
          "execution_count": 5
        }
      ]
    },
    {
      "cell_type": "code",
      "source": [
        "#This should be False/Fat\n",
        "testX0 = 1\n",
        "testX1 = 75\n",
        "perceptron(testX0, testX1)"
      ],
      "metadata": {
        "colab": {
          "base_uri": "https://localhost:8080/"
        },
        "id": "W0j7lKoYuwJZ",
        "outputId": "49d67891-e033-42d8-aaf3-3232cdc70364"
      },
      "execution_count": 6,
      "outputs": [
        {
          "output_type": "stream",
          "name": "stdout",
          "text": [
            "Fat\n"
          ]
        },
        {
          "output_type": "execute_result",
          "data": {
            "text/plain": [
              "False"
            ]
          },
          "metadata": {},
          "execution_count": 6
        }
      ]
    },
    {
      "cell_type": "markdown",
      "source": [
        "Bonus: Plot on the graph above the line that defines the interface of when our perception switches from False to True.\n",
        "\n",
        "w0x +w1y - Thresh = 0\n",
        "\n",
        "y = (thresh/w1) - (w0/w1)x"
      ],
      "metadata": {
        "id": "9nEHKkULyvMN"
      }
    },
    {
      "cell_type": "code",
      "source": [
        "from keras.datasets import mnist\n",
        "#mnist dataset --> handwritten digits\n",
        "print(\"nmist loaded\")"
      ],
      "metadata": {
        "colab": {
          "base_uri": "https://localhost:8080/"
        },
        "id": "WF32aWwADCFY",
        "outputId": "66b19f57-03a6-42dc-e4c9-bbea8d612571"
      },
      "execution_count": 7,
      "outputs": [
        {
          "output_type": "stream",
          "name": "stdout",
          "text": [
            "nmist loaded\n"
          ]
        }
      ]
    },
    {
      "cell_type": "code",
      "source": [
        "#help(mnist)\n",
        "# x is the only inputs in this case.\n",
        "# y is the output in this case.\n",
        "(x_train, y_train), (x_test, y_test) = mnist.load_data()"
      ],
      "metadata": {
        "id": "eMsujJqsDTxZ"
      },
      "execution_count": 16,
      "outputs": []
    },
    {
      "cell_type": "code",
      "source": [
        "type(x_train)"
      ],
      "metadata": {
        "colab": {
          "base_uri": "https://localhost:8080/"
        },
        "id": "Ysu1D6veDWvI",
        "outputId": "577f7f3c-c10f-47fe-93b5-2e90723ceef9"
      },
      "execution_count": 9,
      "outputs": [
        {
          "output_type": "execute_result",
          "data": {
            "text/plain": [
              "numpy.ndarray"
            ]
          },
          "metadata": {},
          "execution_count": 9
        }
      ]
    },
    {
      "cell_type": "code",
      "source": [
        "print('shape:', x_train.shape)"
      ],
      "metadata": {
        "colab": {
          "base_uri": "https://localhost:8080/"
        },
        "id": "XCwI-c3BEYZ2",
        "outputId": "81111c2b-f559-4b41-d1f9-57bb61d2d51d"
      },
      "execution_count": 18,
      "outputs": [
        {
          "output_type": "stream",
          "name": "stdout",
          "text": [
            "shape: (60000, 28, 28)\n"
          ]
        }
      ]
    },
    {
      "cell_type": "code",
      "source": [
        "x_train[0,:,:]\n",
        "plt.imshow(x_train[11,:,:], cmap=plt.get_cmap('gray'))\n",
        "print('label:', y_train[11])"
      ],
      "metadata": {
        "colab": {
          "base_uri": "https://localhost:8080/",
          "height": 283
        },
        "id": "I6xX-BHYElg-",
        "outputId": "5513842c-ec91-4cd7-8a40-da344a54a32c"
      },
      "execution_count": 24,
      "outputs": [
        {
          "output_type": "stream",
          "name": "stdout",
          "text": [
            "label: 5\n"
          ]
        },
        {
          "output_type": "display_data",
          "data": {
            "text/plain": [
              "<Figure size 432x288 with 1 Axes>"
            ],
            "image/png": "[encoded data removed]"
          },
          "metadata": {
            "needs_background": "light"
          }
        }
      ]
    },
    {
      "cell_type": "code",
      "source": [
        "y_train[0:10]"
      ],
      "metadata": {
        "colab": {
          "base_uri": "https://localhost:8080/"
        },
        "id": "qH2LP_sjE2_e",
        "outputId": "b510e2da-cd7e-4375-d6f7-1765ce954ee6"
      },
      "execution_count": 12,
      "outputs": [
        {
          "output_type": "execute_result",
          "data": {
            "text/plain": [
              "array([5, 0, 4, 1, 9, 2, 1, 3, 1, 4], dtype=uint8)"
            ]
          },
          "metadata": {},
          "execution_count": 12
        }
      ]
    },
    {
      "cell_type": "code",
      "source": [
        "indices_for_8 = y_train == 8\n",
        "x8_train = x_train[indices_for_8,:,:]\n",
        "#x8_train = x_train[y_train==8,:,:] is a faster way to separate the variable.\n",
        "indices_for_1 = y_train == 1\n",
        "x1_train = x_train[indices_for_1,:,:]"
      ],
      "metadata": {
        "id": "0SPXx7X4F1yu"
      },
      "execution_count": 13,
      "outputs": []
    },
    {
      "cell_type": "code",
      "source": [
        "print(x8_train[0,:,:].sum())\n",
        "print(x1_train[0,:,:].sum())"
      ],
      "metadata": {
        "colab": {
          "base_uri": "https://localhost:8080/"
        },
        "id": "UwOwvVKyGRj9",
        "outputId": "c5363119-d0b8-4245-99d2-03cf6e8c0b7f"
      },
      "execution_count": 14,
      "outputs": [
        {
          "output_type": "stream",
          "name": "stdout",
          "text": [
            "27106\n",
            "17135\n"
          ]
        }
      ]
    },
    {
      "cell_type": "code",
      "source": [
        "print('label:', y_train[0])\n",
        "sum_pixel = x_train[0,:,:].sum()\n",
        "print('sum pixel value', sum_pixel)\n",
        "print('label:', y_train[5])\n",
        "sum_pixel = x_train[5,:,:].sum()\n",
        "print('sum pixel value', sum_pixel)"
      ],
      "metadata": {
        "colab": {
          "base_uri": "https://localhost:8080/"
        },
        "id": "2BL4gPcHVsqH",
        "outputId": "4e489796-bfd9-4fba-f3d2-6064bc82e6ab"
      },
      "execution_count": 27,
      "outputs": [
        {
          "output_type": "stream",
          "name": "stdout",
          "text": [
            "label: 5\n",
            "sum pixel value 27525\n",
            "label: 2\n",
            "sum pixel value 29601\n"
          ]
        }
      ]
    },
    {
      "cell_type": "code",
      "source": [
        "for i in range(10):\n",
        "  print('label:', y_train[i])\n",
        "  sum_pixel = x_train[i,:,:].sum()\n",
        "  print('sum pixel value', sum_pixel)"
      ],
      "metadata": {
        "colab": {
          "base_uri": "https://localhost:8080/"
        },
        "id": "lkSf142HV03v",
        "outputId": "b16645fd-8178-483b-b591-e79e62782d28"
      },
      "execution_count": 31,
      "outputs": [
        {
          "output_type": "stream",
          "name": "stdout",
          "text": [
            "label: 5\n",
            "sum pixel value 27525\n",
            "label: 0\n",
            "sum pixel value 31095\n",
            "label: 4\n",
            "sum pixel value 19443\n",
            "label: 1\n",
            "sum pixel value 17135\n",
            "label: 9\n",
            "sum pixel value 23214\n",
            "label: 2\n",
            "sum pixel value 29601\n",
            "label: 1\n",
            "sum pixel value 17646\n",
            "label: 3\n",
            "sum pixel value 35867\n",
            "label: 1\n",
            "sum pixel value 10874\n",
            "label: 4\n",
            "sum pixel value 21904\n"
          ]
        }
      ]
    },
    {
      "cell_type": "code",
      "source": [
        "x1_sum = x1_train.sum(axis=1).sum(axis=1)\n",
        "print(x1_sum.shape)\n",
        "x8_sum = x8_train.sum(axis=1).sum(axis=1)\n",
        "print(x8_sum.shape)"
      ],
      "metadata": {
        "colab": {
          "base_uri": "https://localhost:8080/"
        },
        "id": "rtF3-v6jWqcu",
        "outputId": "c5f56a38-6c23-4c9f-8ef3-29097df8f431"
      },
      "execution_count": 38,
      "outputs": [
        {
          "output_type": "stream",
          "name": "stdout",
          "text": [
            "(6742,)\n",
            "(5851,)\n"
          ]
        }
      ]
    },
    {
      "cell_type": "code",
      "source": [
        "import pandas as pd\n",
        "df = pd.DataFrame(x1_sum)\n",
        "df.hist()\n",
        "df = pd.DataFrame(x8_sum)\n",
        "df.hist()"
      ],
      "metadata": {
        "colab": {
          "base_uri": "https://localhost:8080/",
          "height": 581
        },
        "id": "Glj5o6_-Xhsr",
        "outputId": "9ca65da4-b202-40bd-c3a2-81241322e12c"
      },
      "execution_count": 45,
      "outputs": [
        {
          "output_type": "execute_result",
          "data": {
            "text/plain": [
              "array([[<matplotlib.axes._subplots.AxesSubplot object at 0x7fb1ac503690>]],\n",
              "      dtype=object)"
            ]
          },
          "metadata": {},
          "execution_count": 45
        },
        {
          "output_type": "display_data",
          "data": {
            "text/plain": [
              "<Figure size 432x288 with 1 Axes>"
            ],
            "image/png": "[encoded data removed]"
          },
          "metadata": {
            "needs_background": "light"
          }
        },
        {
          "output_type": "display_data",
          "data": {
            "text/plain": [
              "<Figure size 432x288 with 1 Axes>"
            ],
            "image/png": "[encoded data removed]"
          },
          "metadata": {
            "needs_background": "light"
          }
        }
      ]
    },
    {
      "cell_type": "code",
      "source": [],
      "metadata": {
        "id": "h_SZK7SJYQS7"
      },
      "execution_count": null,
      "outputs": []
    }
  ]
}