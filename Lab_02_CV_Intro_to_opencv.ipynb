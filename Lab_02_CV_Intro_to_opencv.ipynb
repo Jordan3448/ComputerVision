{
  "nbformat": 4,
  "nbformat_minor": 0,
  "metadata": {
    "colab": {
      "provenance": [],
      "authorship_tag": "ABX9TyMptdpsETipLYz0fDu26I46",
      "include_colab_link": true
    },
    "kernelspec": {
      "name": "python3",
      "display_name": "Python 3"
    },
    "language_info": {
      "name": "python"
    }
  },
  "cells": [
    {
      "cell_type": "markdown",
      "metadata": {
        "id": "view-in-github",
        "colab_type": "text"
      },
      "source": [
        "<a href=\"https://colab.research.google.com/github/Jordan3448/ComputerVision/blob/main/Lab_02_CV_Intro_to_opencv.ipynb\" target=\"_parent\"><img src=\"https://colab.research.google.com/assets/colab-badge.svg\" alt=\"Open In Colab\"/></a>"
      ]
    },
    {
      "cell_type": "markdown",
      "source": [
        "#### This notebook wil show the basics of the OpenCV toolkit.\n",
        "\n",
        "[OpenCV webpage](https://opencv.org/)\n"
      ],
      "metadata": {
        "id": "J8xzPAFNKJ3l"
      }
    },
    {
      "cell_type": "code",
      "execution_count": 2,
      "metadata": {
        "colab": {
          "base_uri": "https://localhost:8080/"
        },
        "id": "ncxvkxTMJdkR",
        "outputId": "2ebfc577-de68-43a5-ff06-ae3fb08d5d0e"
      },
      "outputs": [
        {
          "output_type": "stream",
          "name": "stdout",
          "text": [
            "loaded OpenCV module\n"
          ]
        }
      ],
      "source": [
        "import cv2\n",
        "print('loaded OpenCV module')"
      ]
    },
    {
      "cell_type": "code",
      "source": [
        "# How to copy an image to our colab environment\n",
        "# we will use the wget shell command\n",
        "\n",
        "!wget 'https://upload.wikimedia.org/wikipedia/en/7/7d/Lenna_%28test_image%29.png'\n"
      ],
      "metadata": {
        "colab": {
          "base_uri": "https://localhost:8080/"
        },
        "id": "TkD8ovLlKiPU",
        "outputId": "48ef6674-05a1-409b-8b30-73e03fd44921"
      },
      "execution_count": 6,
      "outputs": [
        {
          "output_type": "stream",
          "name": "stdout",
          "text": [
            "--2022-09-02 17:11:19--  https://upload.wikimedia.org/wikipedia/en/7/7d/Lenna_%28test_image%29.png\n",
            "Resolving upload.wikimedia.org (upload.wikimedia.org)... 91.198.174.208, 2620:0:862:ed1a::2:b\n",
            "Connecting to upload.wikimedia.org (upload.wikimedia.org)|91.198.174.208|:443... connected.\n",
            "HTTP request sent, awaiting response... 200 OK\n",
            "Length: 473831 (463K) [image/png]\n",
            "Saving to: ‘Lenna_(test_image).png’\n",
            "\n",
            "\rLenna_(test_image).   0%[                    ]       0  --.-KB/s               \rLenna_(test_image). 100%[===================>] 462.73K  --.-KB/s    in 0.02s   \n",
            "\n",
            "2022-09-02 17:11:19 (19.4 MB/s) - ‘Lenna_(test_image).png’ saved [473831/473831]\n",
            "\n"
          ]
        }
      ]
    },
    {
      "cell_type": "code",
      "source": [
        "!ls"
      ],
      "metadata": {
        "colab": {
          "base_uri": "https://localhost:8080/"
        },
        "id": "Br6TQBY_L5wK",
        "outputId": "aa538047-6afd-4d75-a59b-b9cc45f9e8bb"
      },
      "execution_count": 7,
      "outputs": [
        {
          "output_type": "stream",
          "name": "stdout",
          "text": [
            " images  'Lenna_(test_image).png'   sample_data\n"
          ]
        }
      ]
    }
  ]
}