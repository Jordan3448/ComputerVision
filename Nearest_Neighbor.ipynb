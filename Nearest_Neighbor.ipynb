{
  "nbformat": 4,
  "nbformat_minor": 0,
  "metadata": {
    "colab": {
      "provenance": [],
      "authorship_tag": "ABX9TyMl32Z928JEtYtksWfi31/X",
      "include_colab_link": true
    },
    "kernelspec": {
      "name": "python3",
      "display_name": "Python 3"
    },
    "language_info": {
      "name": "python"
    }
  },
  "cells": [
    {
      "cell_type": "markdown",
      "metadata": {
        "id": "view-in-github",
        "colab_type": "text"
      },
      "source": [
        "<a href=\"https://colab.research.google.com/github/Jordan3448/ComputerVision/blob/main/Nearest_Neighbor.ipynb\" target=\"_parent\"><img src=\"https://colab.research.google.com/assets/colab-badge.svg\" alt=\"Open In Colab\"/></a>"
      ]
    },
    {
      "cell_type": "markdown",
      "source": [
        "### NearestNeighbor\n",
        "\n",
        "The 1 - nearest neightbor machine learning algorithm will take a test point, find the closest point to the test point, then pick the closest point's output as the output for the test point.\n",
        "\n",
        "The k - nearest neightbor machine learning algorithm will take a test point, find the k closest points, then pick the most likely answer out of the k points."
      ],
      "metadata": {
        "id": "YYcJj8rCsqhA"
      }
    },
    {
      "cell_type": "code",
      "execution_count": null,
      "metadata": {
        "colab": {
          "base_uri": "https://localhost:8080/"
        },
        "id": "wVQaxzbssl7F",
        "outputId": "a7292b7b-3adc-4b97-8f48-7eaa33397c5d"
      },
      "outputs": [
        {
          "output_type": "stream",
          "name": "stdout",
          "text": [
            "The nearest neighbor for  7.5 is  normal\n"
          ]
        }
      ],
      "source": [
        "# use nearest neightbor to find Cameron's bar preferences\n",
        "\n",
        "# Input: Cameron can be in two states: normal and intoxicated\n",
        "# Data points have a how rating from 1 to 10.\n",
        "# Past data when Cameron asked for phone number: ratings: [10, 9, 10, 8, 7, 8]\n",
        "\n",
        "normals = [10.1,9,10.2,8,7.5,8.1]\n",
        "intoxicateds = [5,2,7.1,5.1,3,10,3]\n",
        "\n",
        "# he is talking to a 7.2, is he intoxicated?\n",
        "\n",
        "#neareest neighbor\n",
        "test_point = 7.5\n",
        "#find difference between test and cur_point\n",
        "best_distance = 10\n",
        "output = None\n",
        "for cur_point in normals:\n",
        "  distance = abs(test_point - cur_point)\n",
        "  #if the distance is less than best_distance, update\n",
        "  if distance < best_distance:\n",
        "    best_distance = distance\n",
        "    output = 'normal'\n",
        "\n",
        "for cur_point in intoxicateds:\n",
        "  distance = abs(test_point - cur_point)\n",
        "  #if the distance is less than best_distance, update\n",
        "  if distance < best_distance:\n",
        "    best_distance = distance\n",
        "    output = 'intoxicateds'\n",
        "\n",
        "print('The nearest neighbor for ', test_point, 'is ', output)\n"
      ]
    },
    {
      "cell_type": "code",
      "source": [
        "abs(-3)"
      ],
      "metadata": {
        "colab": {
          "base_uri": "https://localhost:8080/"
        },
        "id": "2FH4P5JFu4UW",
        "outputId": "790947f1-ca15-4928-e794-886ba02f0f8e"
      },
      "execution_count": null,
      "outputs": [
        {
          "output_type": "execute_result",
          "data": {
            "text/plain": [
              "3"
            ]
          },
          "metadata": {},
          "execution_count": 1
        }
      ]
    },
    {
      "cell_type": "code",
      "source": [],
      "metadata": {
        "id": "2rcCd0WEu5jH"
      },
      "execution_count": null,
      "outputs": []
    }
  ]
}