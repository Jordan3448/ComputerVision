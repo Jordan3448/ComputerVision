{
  "nbformat": 4,
  "nbformat_minor": 0,
  "metadata": {
    "colab": {
      "provenance": [],
      "collapsed_sections": [],
      "authorship_tag": "ABX9TyOzt40D034XX6642WeJNwGy",
      "include_colab_link": true
    },
    "kernelspec": {
      "name": "python3",
      "display_name": "Python 3"
    },
    "language_info": {
      "name": "python"
    }
  },
  "cells": [
    {
      "cell_type": "markdown",
      "metadata": {
        "id": "view-in-github",
        "colab_type": "text"
      },
      "source": [
        "<a href=\"https://colab.research.google.com/github/Jordan3448/ComputerVision/blob/main/Lab1b.ipynb\" target=\"_parent\"><img src=\"https://colab.research.google.com/assets/colab-badge.svg\" alt=\"Open In Colab\"/></a>"
      ]
    },
    {
      "cell_type": "code",
      "execution_count": null,
      "metadata": {
        "colab": {
          "base_uri": "https://localhost:8080/"
        },
        "id": "wOfi0zeZtozo",
        "outputId": "9802ac7d-6f93-446f-a508-d92ea08f42d4"
      },
      "outputs": [
        {
          "output_type": "stream",
          "name": "stdout",
          "text": [
            "Hello, I am Jordan\n"
          ]
        }
      ],
      "source": [
        "print('Hello, I am Jordan')"
      ]
    },
    {
      "cell_type": "code",
      "source": [
        "328*68/23 + (2**10)"
      ],
      "metadata": {
        "colab": {
          "base_uri": "https://localhost:8080/"
        },
        "id": "QDBoX6ygvQF6",
        "outputId": "11d89cd0-6445-4508-c714-4c49138eb0c5"
      },
      "execution_count": null,
      "outputs": [
        {
          "output_type": "execute_result",
          "data": {
            "text/plain": [
              "1993.7391304347825"
            ]
          },
          "metadata": {},
          "execution_count": 3
        }
      ]
    },
    {
      "cell_type": "code",
      "source": [
        "x = ['A', 'B', 'C', 4]"
      ],
      "metadata": {
        "id": "viF_y_5BxHaI"
      },
      "execution_count": null,
      "outputs": []
    },
    {
      "cell_type": "code",
      "source": [
        "for i in x:\n",
        "  print(i)"
      ],
      "metadata": {
        "colab": {
          "base_uri": "https://localhost:8080/"
        },
        "id": "cpY1J3_syTGH",
        "outputId": "ae67546f-e590-447d-e2e7-4eb2420a77bd"
      },
      "execution_count": null,
      "outputs": [
        {
          "output_type": "stream",
          "name": "stdout",
          "text": [
            "A\n",
            "B\n",
            "C\n",
            "4\n"
          ]
        }
      ]
    },
    {
      "cell_type": "code",
      "source": [
        "# Function Definitions\n",
        "\n",
        "def PrintThreeTimes(word):\n",
        "  \"\"\"This will print a word three times \"\"\"\n",
        "  for x in range(3):\n",
        "    print(word)\n",
        "    #print(x)\n",
        "\n",
        "PrintThreeTimes([4,5]) \n",
        "PrintThreeTimes('YASS!')  \n",
        "PrintThreeTimes(1000)\n",
        "\n"
      ],
      "metadata": {
        "colab": {
          "base_uri": "https://localhost:8080/"
        },
        "id": "P-BHbmkKApt3",
        "outputId": "e72c6ba9-f50d-4064-ca90-25702ac96217"
      },
      "execution_count": 6,
      "outputs": [
        {
          "output_type": "stream",
          "name": "stdout",
          "text": [
            "[4, 5]\n",
            "[4, 5]\n",
            "[4, 5]\n",
            "YASS!\n",
            "YASS!\n",
            "YASS!\n",
            "1000\n",
            "1000\n",
            "1000\n"
          ]
        }
      ]
    }
  ]
}