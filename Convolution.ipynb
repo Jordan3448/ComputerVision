{
  "nbformat": 4,
  "nbformat_minor": 0,
  "metadata": {
    "colab": {
      "provenance": [],
      "collapsed_sections": [],
      "authorship_tag": "ABX9TyPAkEZ8sEE/pEZRwl6V2MsN",
      "include_colab_link": true
    },
    "kernelspec": {
      "name": "python3",
      "display_name": "Python 3"
    },
    "language_info": {
      "name": "python"
    }
  },
  "cells": [
    {
      "cell_type": "markdown",
      "metadata": {
        "id": "view-in-github",
        "colab_type": "text"
      },
      "source": [
        "<a href=\"https://colab.research.google.com/github/Jordan3448/ComputerVision/blob/main/Convolution.ipynb\" target=\"_parent\"><img src=\"https://colab.research.google.com/assets/colab-badge.svg\" alt=\"Open In Colab\"/></a>"
      ]
    },
    {
      "cell_type": "markdown",
      "source": [
        "Convolution - two signals are convolved together when you multiply the two signals together and sum, then shift and repeat; \n",
        "\n",
        "(Multipy Shift Add)"
      ],
      "metadata": {
        "id": "4b25bVcd8Kgu"
      }
    },
    {
      "cell_type": "code",
      "execution_count": 29,
      "metadata": {
        "colab": {
          "base_uri": "https://localhost:8080/"
        },
        "id": "NYFfjOTj7vtx",
        "outputId": "b4fc9ca6-042c-463f-97c2-bdd2f8c7a4f8"
      },
      "outputs": [
        {
          "output_type": "stream",
          "name": "stdout",
          "text": [
            "convolution =  [5. 5. 0. 5. 5. 5. 0. 5. 5. 5. 0. 5. 5. 5. 0. 5.]\n"
          ]
        }
      ],
      "source": [
        "#here we will aplly a moving average to D'Angelos Dojo Data\n",
        "import numpy as np\n",
        "\n",
        "def convolution(func1,func2):\n",
        "  \"\"\"Returns the convolution of func1 and func2.\n",
        "  func1, func2, and the return calue should be numpy arrays\"\"\"\n",
        "  filtered_data = []\n",
        "  for shift in range(func1.shape[0]-func2.shape[0]+1):\n",
        "    kernel_sum = 0\n",
        "    for i in range(func2.shape[0]):\n",
        "      kernel_sum = kernel_sum + func2[i]*func1[shift+i]\n",
        "      filtered_data.append(kernel_sum)\n",
        "      #print(data[shift])\n",
        "  return np.array(filtered_data)\n",
        "\n",
        "\n",
        "data = np.array([10,0,10,0,10,0,10,0,10])\n",
        "kernel = np.array([.5,.5])\n",
        "filtered_data = convolution(data,kernel)\n",
        "filtered_data2 = convolution(filtered_data, kernel)\n",
        "print('convolution = ', filtered_data)"
      ]
    },
    {
      "cell_type": "code",
      "source": [
        "a = [1,2,3]\n",
        "x = np.array(a)\n",
        "x"
      ],
      "metadata": {
        "colab": {
          "base_uri": "https://localhost:8080/"
        },
        "id": "OzJ6HUFxBAOh",
        "outputId": "0ae14988-a3ce-4306-d372-57bf48fee5eb"
      },
      "execution_count": 10,
      "outputs": [
        {
          "output_type": "execute_result",
          "data": {
            "text/plain": [
              "array([1, 2, 3])"
            ]
          },
          "metadata": {},
          "execution_count": 10
        }
      ]
    },
    {
      "cell_type": "code",
      "source": [
        "for shift in range(data.shape[0]-1):\n",
        "  kernel_sum = kernel[0]*data[shift] + kernel[1]*data[shift+1]\n",
        "  filtered_data.append(kernel_sum)\n",
        "  #print(data[shift])\n"
      ],
      "metadata": {
        "id": "caSN6OdyEJln"
      },
      "execution_count": null,
      "outputs": []
    }
  ]
}