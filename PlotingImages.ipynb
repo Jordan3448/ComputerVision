{
  "nbformat": 4,
  "nbformat_minor": 0,
  "metadata": {
    "colab": {
      "provenance": [],
      "collapsed_sections": [],
      "authorship_tag": "ABX9TyPTgeBa2mP0R0iwM2aXZ2ds",
      "include_colab_link": true
    },
    "kernelspec": {
      "name": "python3",
      "display_name": "Python 3"
    },
    "language_info": {
      "name": "python"
    }
  },
  "cells": [
    {
      "cell_type": "markdown",
      "metadata": {
        "id": "view-in-github",
        "colab_type": "text"
      },
      "source": [
        "<a href=\"https://colab.research.google.com/github/Jordan3448/ComputerVision/blob/main/PlotingImages.ipynb\" target=\"_parent\"><img src=\"https://colab.research.google.com/assets/colab-badge.svg\" alt=\"Open In Colab\"/></a>"
      ]
    },
    {
      "cell_type": "code",
      "execution_count": 1,
      "metadata": {
        "id": "4WLz3OYrGDQc",
        "colab": {
          "base_uri": "https://localhost:8080/"
        },
        "outputId": "0739d945-7794-4acf-ec89-7c92464be138"
      },
      "outputs": [
        {
          "output_type": "stream",
          "name": "stdout",
          "text": [
            "hello\n"
          ]
        }
      ],
      "source": [
        "import cv2\n",
        "import math\n",
        "import matplotlib.pyplot as plt\n",
        "import numpy as np\n",
        "print(\"hello\")"
      ]
    },
    {
      "cell_type": "code",
      "source": [
        "t = np.ones((100,100,3))\n",
        "#zero = black\n",
        "t[10:90, 10:20, :] = 0\n",
        "t[10:90, 80:90, :] = 0\n",
        "t[10:20, 10:90, :] = 0\n",
        "t[80:90, 10:90, :] = 0\n",
        "plt.imshow(t)\n",
        "plt.show()"
      ],
      "metadata": {
        "colab": {
          "base_uri": "https://localhost:8080/",
          "height": 268
        },
        "id": "Zsj_BMrvI9T5",
        "outputId": "c04c080d-f434-4b06-ea75-5d9250259951"
      },
      "execution_count": 2,
      "outputs": [
        {
          "output_type": "display_data",
          "data": {
            "text/plain": [
              "<Figure size 432x288 with 1 Axes>"
            ],
            "image/png": "[encoded data removed]"
          },
          "metadata": {
            "needs_background": "light"
          }
        }
      ]
    },
    {
      "cell_type": "code",
      "source": [
        "c = np.ones((100,100,3))\n",
        "math.sin(30*(math.pi/180))\n",
        "r = 20\n",
        "w = 2\n",
        "for a in range(360):\n",
        "  x = int(r*math.cos(a/180*math.pi))\n",
        "  y = int(r*math.sin(a/180*math.pi))\n",
        "  c[50+x-w:50+x+w, 50+y-w:50+y+w,:] = 0\n",
        "\n",
        "plt.imshow(c)\n",
        "plt.show()"
      ],
      "metadata": {
        "colab": {
          "base_uri": "https://localhost:8080/",
          "height": 268
        },
        "id": "nj1ddpKsLw1k",
        "outputId": "eeb8cabc-e688-4bab-a810-04053ae92447"
      },
      "execution_count": 3,
      "outputs": [
        {
          "output_type": "display_data",
          "data": {
            "text/plain": [
              "<Figure size 432x288 with 1 Axes>"
            ],
            "image/png": "[encoded data removed]"
          },
          "metadata": {
            "needs_background": "light"
          }
        }
      ]
    },
    {
      "cell_type": "code",
      "source": [
        "m = np.zeros((10,10,3))\n",
        "m[1:4,2,:] = 1\n",
        "m[1,2:5,:] = 1\n",
        "plt.imshow(m)\n",
        "#show only reds in a RGB image\n",
        "print(m[:,:,0])\n",
        "plt.show()"
      ],
      "metadata": {
        "colab": {
          "base_uri": "https://localhost:8080/",
          "height": 444
        },
        "id": "XAI-ROm_3f0O",
        "outputId": "1a4adbd3-bc37-48b6-cf62-95fe954cb39a"
      },
      "execution_count": 29,
      "outputs": [
        {
          "output_type": "stream",
          "name": "stdout",
          "text": [
            "[[0. 0. 0. 0. 0. 0. 0. 0. 0. 0.]\n",
            " [0. 0. 1. 1. 1. 0. 0. 0. 0. 0.]\n",
            " [0. 0. 1. 0. 0. 0. 0. 0. 0. 0.]\n",
            " [0. 0. 1. 0. 0. 0. 0. 0. 0. 0.]\n",
            " [0. 0. 0. 0. 0. 0. 0. 0. 0. 0.]\n",
            " [0. 0. 0. 0. 0. 0. 0. 0. 0. 0.]\n",
            " [0. 0. 0. 0. 0. 0. 0. 0. 0. 0.]\n",
            " [0. 0. 0. 0. 0. 0. 0. 0. 0. 0.]\n",
            " [0. 0. 0. 0. 0. 0. 0. 0. 0. 0.]\n",
            " [0. 0. 0. 0. 0. 0. 0. 0. 0. 0.]]\n"
          ]
        },
        {
          "output_type": "display_data",
          "data": {
            "text/plain": [
              "<Figure size 432x288 with 1 Axes>"
            ],
            "image/png": "[encoded data removed]"
          },
          "metadata": {
            "needs_background": "light"
          }
        }
      ]
    },
    {
      "cell_type": "code",
      "source": [
        "# Translation in Y - i.e move down\n",
        "m2 = m.copy()\n",
        "m2[0,0,:] = .2\n",
        "m2[2, 0, :] = m2[0,0,:]\n",
        "m2[0,0,:] = 0\n",
        "print(m2[:,:,0])\n",
        "plt.imshow(m2)\n",
        "plt.show()"
      ],
      "metadata": {
        "colab": {
          "base_uri": "https://localhost:8080/",
          "height": 444
        },
        "id": "xqeUfOuW-CQm",
        "outputId": "fcdcfe43-6987-482b-ad69-233057ad8196"
      },
      "execution_count": 31,
      "outputs": [
        {
          "output_type": "stream",
          "name": "stdout",
          "text": [
            "[[0.  0.  0.  0.  0.  0.  0.  0.  0.  0. ]\n",
            " [0.  0.  1.  1.  1.  0.  0.  0.  0.  0. ]\n",
            " [0.2 0.  1.  0.  0.  0.  0.  0.  0.  0. ]\n",
            " [0.  0.  1.  0.  0.  0.  0.  0.  0.  0. ]\n",
            " [0.  0.  0.  0.  0.  0.  0.  0.  0.  0. ]\n",
            " [0.  0.  0.  0.  0.  0.  0.  0.  0.  0. ]\n",
            " [0.  0.  0.  0.  0.  0.  0.  0.  0.  0. ]\n",
            " [0.  0.  0.  0.  0.  0.  0.  0.  0.  0. ]\n",
            " [0.  0.  0.  0.  0.  0.  0.  0.  0.  0. ]\n",
            " [0.  0.  0.  0.  0.  0.  0.  0.  0.  0. ]]\n"
          ]
        },
        {
          "output_type": "display_data",
          "data": {
            "text/plain": [
              "<Figure size 432x288 with 1 Axes>"
            ],
            "image/png": "[encoded data removed]"
          },
          "metadata": {
            "needs_background": "light"
          }
        }
      ]
    },
    {
      "cell_type": "code",
      "source": [
        "#brighten whole image\n",
        "#ie every pixel +.2 in value\n",
        "m2 = m.copy()\n",
        "for i in range(10):\n",
        "  for j in range(10):\n",
        "    m2[i,j,:] = m2[i,j,:] + 0.2\n",
        "print(m2[:,:,0])\n",
        "plt.imshow(m2)\n",
        "plt.show()"
      ],
      "metadata": {
        "colab": {
          "base_uri": "https://localhost:8080/",
          "height": 461
        },
        "id": "HD1bjVAZCK-S",
        "outputId": "4b836490-98e2-4ad0-d76d-22b96ec8f173"
      },
      "execution_count": 33,
      "outputs": [
        {
          "output_type": "stream",
          "name": "stderr",
          "text": [
            "WARNING:matplotlib.image:Clipping input data to the valid range for imshow with RGB data ([0..1] for floats or [0..255] for integers).\n"
          ]
        },
        {
          "output_type": "stream",
          "name": "stdout",
          "text": [
            "[[0.2 0.2 0.2 0.2 0.2 0.2 0.2 0.2 0.2 0.2]\n",
            " [0.2 0.2 1.2 1.2 1.2 0.2 0.2 0.2 0.2 0.2]\n",
            " [0.2 0.2 1.2 0.2 0.2 0.2 0.2 0.2 0.2 0.2]\n",
            " [0.2 0.2 1.2 0.2 0.2 0.2 0.2 0.2 0.2 0.2]\n",
            " [0.2 0.2 0.2 0.2 0.2 0.2 0.2 0.2 0.2 0.2]\n",
            " [0.2 0.2 0.2 0.2 0.2 0.2 0.2 0.2 0.2 0.2]\n",
            " [0.2 0.2 0.2 0.2 0.2 0.2 0.2 0.2 0.2 0.2]\n",
            " [0.2 0.2 0.2 0.2 0.2 0.2 0.2 0.2 0.2 0.2]\n",
            " [0.2 0.2 0.2 0.2 0.2 0.2 0.2 0.2 0.2 0.2]\n",
            " [0.2 0.2 0.2 0.2 0.2 0.2 0.2 0.2 0.2 0.2]]\n"
          ]
        },
        {
          "output_type": "display_data",
          "data": {
            "text/plain": [
              "<Figure size 432x288 with 1 Axes>"
            ],
            "image/png": "[encoded data removed]"
          },
          "metadata": {
            "needs_background": "light"
          }
        }
      ]
    },
    {
      "cell_type": "code",
      "source": [
        "a = [1,2,3,4]\n",
        "b = a\n",
        "c = a.copy()\n",
        "a[0] = 'pizza is awesome'\n",
        "print('b=', b)\n",
        "print('c=', c)"
      ],
      "metadata": {
        "colab": {
          "base_uri": "https://localhost:8080/"
        },
        "id": "g8X9qnBN_TkN",
        "outputId": "45ddd80a-acbf-47b1-d5cb-9c84e13e376c"
      },
      "execution_count": 20,
      "outputs": [
        {
          "output_type": "stream",
          "name": "stdout",
          "text": [
            "b= ['pizza is awesome', 2, 3, 4]\n",
            "c= [1, 2, 3, 4]\n"
          ]
        }
      ]
    },
    {
      "cell_type": "code",
      "source": [
        "x = 'yes'\n",
        "y = x\n",
        "x = 'go to sleep'\n",
        "print('y = ', y)\n"
      ],
      "metadata": {
        "colab": {
          "base_uri": "https://localhost:8080/"
        },
        "id": "lrkVOPz0_rsN",
        "outputId": "a219fd47-7378-4783-ae15-209bd6c9f76f"
      },
      "execution_count": 23,
      "outputs": [
        {
          "output_type": "stream",
          "name": "stdout",
          "text": [
            "y =  yes\n"
          ]
        }
      ]
    }
  ]
}