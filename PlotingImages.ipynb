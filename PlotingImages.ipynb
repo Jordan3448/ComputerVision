{
  "nbformat": 4,
  "nbformat_minor": 0,
  "metadata": {
    "colab": {
      "provenance": [],
      "collapsed_sections": [],
      "authorship_tag": "ABX9TyNjTNOjCUFEAR5GXxBJU5mg",
      "include_colab_link": true
    },
    "kernelspec": {
      "name": "python3",
      "display_name": "Python 3"
    },
    "language_info": {
      "name": "python"
    }
  },
  "cells": [
    {
      "cell_type": "markdown",
      "metadata": {
        "id": "view-in-github",
        "colab_type": "text"
      },
      "source": [
        "<a href=\"https://colab.research.google.com/github/Jordan3448/ComputerVision/blob/main/PlotingImages.ipynb\" target=\"_parent\"><img src=\"https://colab.research.google.com/assets/colab-badge.svg\" alt=\"Open In Colab\"/></a>"
      ]
    },
    {
      "cell_type": "code",
      "execution_count": 4,
      "metadata": {
        "id": "4WLz3OYrGDQc"
      },
      "outputs": [],
      "source": [
        "import cv2\n",
        "import math\n",
        "import matplotlib.pyplot as plt\n",
        "import numpy as np"
      ]
    },
    {
      "cell_type": "code",
      "source": [
        "t = np.ones((100,100,3))\n",
        "#zero = black\n",
        "t[10:90, 10:20, :] = 0\n",
        "t[10:90, 80:90, :] = 0\n",
        "t[10:20, 10:90, :] = 0\n",
        "t[80:90, 10:90, :] = 0\n",
        "plt.imshow(t)\n",
        "plt.show()"
      ],
      "metadata": {
        "colab": {
          "base_uri": "https://localhost:8080/",
          "height": 268
        },
        "id": "Zsj_BMrvI9T5",
        "outputId": "859e6260-f6bb-43c4-af61-9014e5e86d43"
      },
      "execution_count": 26,
      "outputs": [
        {
          "output_type": "display_data",
          "data": {
            "text/plain": [
              "<Figure size 432x288 with 1 Axes>"
            ],
            "image/png": "[encoded data removed]"
          },
          "metadata": {
            "needs_background": "light"
          }
        }
      ]
    },
    {
      "cell_type": "code",
      "source": [
        "c = np.ones((100,100,3))\n",
        "math.sin(30*(math.pi/180))\n",
        "r = 20\n",
        "w = 2\n",
        "for a in range(360):\n",
        "  x = int(r*math.cos(a/180*math.pi))\n",
        "  y = int(r*math.sin(a/180*math.pi))\n",
        "  c[50+x-w:50+x+w, 50+y-w:50+y+w,:] = 0\n",
        "\n",
        "plt.imshow(c)\n",
        "plt.show()"
      ],
      "metadata": {
        "colab": {
          "base_uri": "https://localhost:8080/",
          "height": 268
        },
        "id": "nj1ddpKsLw1k",
        "outputId": "64354945-5d22-4d3a-9cd4-b459ce31b265"
      },
      "execution_count": 48,
      "outputs": [
        {
          "output_type": "display_data",
          "data": {
            "text/plain": [
              "<Figure size 432x288 with 1 Axes>"
            ],
            "image/png": "[encoded data removed]"
          },
          "metadata": {
            "needs_background": "light"
          }
        }
      ]
    }
  ]
}